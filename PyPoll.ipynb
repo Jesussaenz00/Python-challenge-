{
 "cells": [
  {
   "cell_type": "code",
   "execution_count": null,
   "id": "c61ecf2b-0668-4dbe-a6e1-0e23cf36253d",
   "metadata": {},
   "outputs": [],
   "source": [
    "import csv\n",
    "\n",
    "# Initialize variables\n",
    "total_votes = 0\n",
    "candidates = {}\n",
    "winner = \"\"\n",
    "winner_votes = 0\n",
    "\n",
    "# Read the CSV file\n",
    "with open('Resources/election_data.csv', 'r') as file:\n",
    "    csvreader = csv.reader(file)\n",
    "    header = next(csvreader)  # Skip the header\n",
    "    for row in csvreader:\n",
    "        total_votes += 1\n",
    "        candidate = row[2]\n",
    "        if candidate in candidates:\n",
    "            candidates[candidate] += 1\n",
    "        else:\n",
    "            candidates[candidate] = 1\n",
    "\n",
    "# Calculate the percentage of votes each candidate won and determine the winner\n",
    "output_lines = []\n",
    "for candidate, votes in candidates.items():\n",
    "    percentage = (votes / total_votes) * 100\n",
    "    output_lines.append(f\"{candidate}: {percentage:.3f}% ({votes})\")\n",
    "    if votes > winner_votes:\n",
    "        winner = candidate\n",
    "        winner_votes = votes\n",
    "\n",
    "# Prepare the output string\n",
    "output = (\n",
    "    f\"Total Votes: {total_votes}\\n\"\n",
    "    + \"-\"*30 + \"\\n\"\n",
    "    + \"\\n\".join(output_lines) + \"\\n\"\n",
    "    + \"-\"*30 + \"\\n\"\n",
    "    + f\"Winner: {winner}\\n\"\n",
    "    + \"-\"*30 + \"\\n\"\n",
    ")\n",
    "\n",
    "# Write the output to a text file\n",
    "with open('Analysis/election_results.txt', 'w') as output_file:\n",
    "    output_file.write(output)\n",
    "\n",
    "# Print the output to the terminal\n",
    "print(output)"
   ]
  }
 ],
 "metadata": {
  "kernelspec": {
   "display_name": "Python 3 (ipykernel)",
   "language": "python",
   "name": "python3"
  },
  "language_info": {
   "codemirror_mode": {
    "name": "ipython",
    "version": 3
   },
   "file_extension": ".py",
   "mimetype": "text/x-python",
   "name": "python",
   "nbconvert_exporter": "python",
   "pygments_lexer": "ipython3",
   "version": "3.11.8"
  }
 },
 "nbformat": 4,
 "nbformat_minor": 5
}
