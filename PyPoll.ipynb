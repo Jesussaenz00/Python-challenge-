{
 "cells": [
  {
   "cell_type": "code",
   "execution_count": 2,
   "id": "942ae81a-6f2e-4edf-8734-3af84d526635",
   "metadata": {
    "editable": true,
    "scrolled": true,
    "slideshow": {
     "slide_type": ""
    },
    "tags": []
   },
   "outputs": [
    {
     "name": "stdout",
     "output_type": "stream",
     "text": [
      "Current working directory: /Users/jesussaenz/Documents/Challenge 3/Starter_Code-2/PyPoll\n",
      "Election Results\n",
      "-------------------------\n",
      "Total Votes: 369711\n",
      "-------------------------\n",
      "Charles Casper Stockham: 23.049% (85213)\n",
      "Diana DeGette: 73.812% (272892)\n",
      "Raymon Anthony Doane: 3.139% (11606)\n",
      "-------------------------\n",
      "Winner: Diana DeGette\n",
      "-------------------------\n",
      "\n"
     ]
    }
   ],
   "source": [
    "import csv\n",
    "import os\n",
    "\n",
    "print(\"Current working directory:\", os.getcwd())\n",
    "\n",
    "total_votes = 0\n",
    "candidates = {}\n",
    "winner = \"\"\n",
    "winner_votes = 0\n",
    "\n",
    "file_path = 'Resources/election_data.csv' \n",
    "\n",
    "try:\n",
    "    with open(file_path, mode='r') as file:\n",
    "        reader = csv.DictReader(file)\n",
    "        for row in reader:\n",
    "            total_votes += 1\n",
    "            candidate = row['Candidate']\n",
    "            if candidate in candidates:\n",
    "                candidates[candidate] += 1\n",
    "            else:\n",
    "                candidates[candidate] = 1\n",
    "\n",
    "    results = []\n",
    "    for candidate, votes in candidates.items():\n",
    "        percentage = (votes / total_votes) * 100\n",
    "        results.append((candidate, votes, percentage))\n",
    "        if votes > winner_votes:\n",
    "            winner_votes = votes\n",
    "            winner = candidate\n",
    "\n",
    "    election_report = (\n",
    "        f\"Election Results\\n\"\n",
    "        f\"-------------------------\\n\"\n",
    "        f\"Total Votes: {total_votes}\\n\"\n",
    "        f\"-------------------------\\n\"\n",
    "    )\n",
    "    \n",
    "    for candidate, votes, percentage in results:\n",
    "        election_report += f\"{candidate}: {percentage:.3f}% ({votes})\\n\"\n",
    "    \n",
    "    election_report += (\n",
    "        f\"-------------------------\\n\"\n",
    "        f\"Winner: {winner}\\n\"\n",
    "        f\"-------------------------\\n\"\n",
    "    )\n",
    "\n",
    "    print(election_report)\n",
    "\n",
    "    with open('election_results.txt', mode='w') as file:\n",
    "        file.write(election_report)\n",
    "\n",
    "except FileNotFoundError:\n",
    "    print(f\"The file '{file_path}' was not found. Please ensure it is in the correct directory.\")\n"
   ]
  },
  {
   "cell_type": "code",
   "execution_count": null,
   "id": "b2415a25-8d9b-4f51-aedc-0f04aae21737",
   "metadata": {
    "editable": true,
    "slideshow": {
     "slide_type": ""
    },
    "tags": []
   },
   "outputs": [],
   "source": []
  }
 ],
 "metadata": {
  "kernelspec": {
   "display_name": "Python 3 (ipykernel)",
   "language": "python",
   "name": "python3"
  },
  "language_info": {
   "codemirror_mode": {
    "name": "ipython",
    "version": 3
   },
   "file_extension": ".py",
   "mimetype": "text/x-python",
   "name": "python",
   "nbconvert_exporter": "python",
   "pygments_lexer": "ipython3",
   "version": "3.11.7"
  }
 },
 "nbformat": 4,
 "nbformat_minor": 5
}
