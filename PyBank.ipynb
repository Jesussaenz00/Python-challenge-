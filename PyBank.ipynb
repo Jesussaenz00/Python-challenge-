{
 "cells": [
  {
   "cell_type": "code",
   "execution_count": null,
   "id": "56583b55-2143-40a3-abd7-048497b07b78",
   "metadata": {},
   "outputs": [],
   "source": [
    "import csv\n",
    "\n",
    "# Initialize variables\n",
    "months = []\n",
    "profits_losses = []\n",
    "changes = []\n",
    "\n",
    "# Read the CSV file\n",
    "with open('Resources/budget_data.csv', 'r') as file:\n",
    "    csvreader = csv.reader(file)\n",
    "    header = next(csvreader)  # Skip the header\n",
    "    for row in csvreader:\n",
    "        months.append(row[0])\n",
    "        profits_losses.append(int(row[1]))\n",
    "\n",
    "# Calculate the total number of months\n",
    "total_months = len(months)\n",
    "\n",
    "# Calculate the net total amount of \"Profit/Losses\" over the entire period\n",
    "net_total = sum(profits_losses)\n",
    "\n",
    "# Calculate the changes in \"Profit/Losses\" over the entire period\n",
    "for i in range(1, total_months):\n",
    "    change = profits_losses[i] - profits_losses[i - 1]\n",
    "    changes.append(change)\n",
    "\n",
    "# Calculate the average of those changes\n",
    "average_change = sum(changes) / len(changes)\n",
    "\n",
    "# Find the greatest increase in profits (date and amount)\n",
    "greatest_increase = max(changes)\n",
    "greatest_increase_month = months[changes.index(greatest_increase) + 1]\n",
    "\n",
    "# Find the greatest decrease in profits (date and amount)\n",
    "greatest_decrease = min(changes)\n",
    "greatest_decrease_month = months[changes.index(greatest_decrease) + 1]\n",
    "\n",
    "# Prepare the output string\n",
    "output = (\n",
    "    f\"Total Months: {total_months}\\n\"\n",
    "    f\"Net Total: ${net_total}\\n\"\n",
    "    f\"Average Change: ${average_change:.2f}\\n\"\n",
    "    f\"Greatest Increase in Profits: {greatest_increase_month} (${greatest_increase})\\n\"\n",
    "    f\"Greatest Decrease in Profits: {greatest_decrease_month} (${greatest_decrease})\\n\"\n",
    ")\n",
    "\n",
    "# Write the output to a text file\n",
    "with open('Analysis/budget_analysis.txt', 'w') as output_file:\n",
    "    output_file.write(output)\n",
    "\n",
    "# Print the output to the terminal\n",
    "print(output)"
   ]
  }
 ],
 "metadata": {
  "kernelspec": {
   "display_name": "Python 3 (ipykernel)",
   "language": "python",
   "name": "python3"
  },
  "language_info": {
   "codemirror_mode": {
    "name": "ipython",
    "version": 3
   },
   "file_extension": ".py",
   "mimetype": "text/x-python",
   "name": "python",
   "nbconvert_exporter": "python",
   "pygments_lexer": "ipython3",
   "version": "3.11.8"
  }
 },
 "nbformat": 4,
 "nbformat_minor": 5
}
