{
 "cells": [
  {
   "cell_type": "code",
   "execution_count": 5,
   "id": "dd71f274-8219-4142-820d-6acda9a3b6ae",
   "metadata": {
    "editable": true,
    "slideshow": {
     "slide_type": ""
    },
    "tags": []
   },
   "outputs": [
    {
     "name": "stdout",
     "output_type": "stream",
     "text": [
      "Current working directory: /Users/jesussaenz/Documents/Challenge 3/Starter_Code-2/PyBank\n",
      "Financial Analysis\n",
      "----------------------------\n",
      "Total Months: 86\n",
      "Total: $22564198\n",
      "Average Change: $-8311.11\n",
      "Greatest Increase in Profits: Aug-16 ($1862002)\n",
      "Greatest Decrease in Profits: Feb-14 ($-1825558)\n",
      "\n"
     ]
    }
   ],
   "source": [
    "import csv \n",
    "import os \n",
    "\n",
    "print(\"Current working directory:\", os.getcwd())\n",
    "\n",
    "total_months = 0\n",
    "net_total = 0\n",
    "previous_profit_losses = None\n",
    "changes = []\n",
    "dates = []\n",
    "\n",
    "file_path = 'Resources/budget_data.csv' \n",
    "\n",
    "try:\n",
    "    with open(file_path, mode='r') as file:\n",
    "        reader = csv.DictReader(file)\n",
    "        for row in reader:\n",
    "            date = row['Date']\n",
    "            profit_losses = int(row['Profit/Losses'])\n",
    "            total_months += 1\n",
    "            net_total += profit_losses\n",
    "\n",
    "            if previous_profit_losses is not None:\n",
    "                change = profit_losses - previous_profit_losses\n",
    "                changes.append(change)\n",
    "                dates.append(date)\n",
    "        \n",
    "            previous_profit_losses = profit_losses\n",
    "\n",
    "    average_change = sum(changes) / len(changes) if changes else 0\n",
    "\n",
    "    greatest_increase = max(changes) if changes else 0\n",
    "    greatest_decrease = min(changes) if changes else 0\n",
    "    greatest_increase_date = dates[changes.index(greatest_increase)] if changes else \"\"\n",
    "    greatest_decrease_date = dates[changes.index(greatest_decrease)] if changes else \"\"\n",
    "\n",
    "    analysis_report = (\n",
    "        f\"Financial Analysis\\n\"\n",
    "        f\"----------------------------\\n\"\n",
    "        f\"Total Months: {total_months}\\n\"\n",
    "        f\"Total: ${net_total}\\n\"\n",
    "        f\"Average Change: ${average_change:.2f}\\n\"\n",
    "        f\"Greatest Increase in Profits: {greatest_increase_date} (${greatest_increase})\\n\"\n",
    "        f\"Greatest Decrease in Profits: {greatest_decrease_date} (${greatest_decrease})\\n\"\n",
    "    )\n",
    "\n",
    "    print(analysis_report)\n",
    "\n",
    "    with open('financial_analysis.txt', mode='w') as file:\n",
    "        file.write(analysis_report)\n",
    "\n",
    "except FileNotFoundError:\n",
    "    print(f\"The file '{file_path}' was not found. Please ensure it is in the correct directory.\")\n"
   ]
  },
  {
   "cell_type": "code",
   "execution_count": null,
   "id": "d9b3284a-cc87-44ed-9cad-56ec07ef582d",
   "metadata": {},
   "outputs": [],
   "source": []
  }
 ],
 "metadata": {
  "kernelspec": {
   "display_name": "Python 3 (ipykernel)",
   "language": "python",
   "name": "python3"
  },
  "language_info": {
   "codemirror_mode": {
    "name": "ipython",
    "version": 3
   },
   "file_extension": ".py",
   "mimetype": "text/x-python",
   "name": "python",
   "nbconvert_exporter": "python",
   "pygments_lexer": "ipython3",
   "version": "3.11.7"
  }
 },
 "nbformat": 4,
 "nbformat_minor": 5
}
